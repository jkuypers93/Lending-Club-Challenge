{
 "cells": [
  {
   "cell_type": "code",
   "execution_count": 81,
   "metadata": {},
   "outputs": [],
   "source": [
    "#import modules\n",
    "import numpy as np\n",
    "import pandas as pd\n",
    "import matplotlib.pyplot as plt\n",
    "import seaborn as sns\n",
    "from sklearn import metrics\n",
    "from sklearn.model_selection import train_test_split\n",
    "from sklearn.preprocessing import StandardScaler, MinMaxScaler, RobustScaler, Binarizer\n",
    "from sklearn.feature_selection import SelectKBest, mutual_info_classif, chi2, mutual_info_regression\n",
    "from sklearn.linear_model import LogisticRegression\n",
    "from sklearn.ensemble import RandomForestClassifier\n",
    "from sklearn.neighbors import KNeighborsClassifier\n",
    "from sklearn.neural_network import MLPClassifier\n",
    "from sklearn.svm import SVC\n",
    "from imblearn.over_sampling import SMOTE\n",
    "from sklearn.preprocessing import OrdinalEncoder, LabelEncoder\n",
    "from sklearn.model_selection import GridSearchCV\n",
    "import pickle\n",
    "\n",
    "#had to write into a file that can be imported for it be saveable with pickle\n",
    "from cost_scorer.cost_scorer import cost_scorer"
   ]
  },
  {
   "cell_type": "code",
   "execution_count": 42,
   "metadata": {},
   "outputs": [],
   "source": [
    "path = 'OutSystems_OUTLENDING_VARIABLES.csv'\n",
    "index_col = 'Unnamed: 0'"
   ]
  },
  {
   "cell_type": "code",
   "execution_count": 43,
   "metadata": {},
   "outputs": [],
   "source": [
    "#convert categorical columns to object type\n",
    "#note that 'EMP_LENGHT_NUM' gets converted to categorical, since there are only 12 possible values\n",
    "def identify_categorical_features(df, verbose=False):\n",
    "    '''identifies columns with few possible values (less than 5), and converts them to object type.\n",
    "    All object type features will later be one hot encoded (i.e dummies)'''\n",
    "    for column in df.columns:\n",
    "        if len(df[column].unique()) < 15:\n",
    "            df[column] = df[column].astype(object)\n",
    "    if verbose == True:\n",
    "        print(df.dtypes)\n",
    "    return df\n",
    "\n",
    "def load_dataset(path, index_col, verbose=False):\n",
    "    df = pd.read_csv(path, index_col = index_col)\n",
    "    df = identify_categorical_features(df, verbose=verbose)\n",
    "    if verbose == True:\n",
    "            df.info()\n",
    "            print(df.head())\n",
    "    return df"
   ]
  },
  {
   "cell_type": "markdown",
   "metadata": {},
   "source": [
    "## ESTABLISHING A BASELINE"
   ]
  },
  {
   "cell_type": "code",
   "execution_count": 44,
   "metadata": {},
   "outputs": [
    {
     "name": "stdout",
     "output_type": "stream",
     "text": [
      "GRADE                     object\n",
      "SUB_GRADE                 object\n",
      "SHORT_EMP                 object\n",
      "EMP_LENGTH_NUM            object\n",
      "HOME_OWNERSHIP            object\n",
      "DTI                      float64\n",
      "PURPOSE                   object\n",
      "TERM                      object\n",
      "LAST_DELINQ_NONE          object\n",
      "LAST_MAJOR_DEROG_NONE     object\n",
      "REVOL_UTIL               float64\n",
      "TOTAL_REC_LATE_FEE       float64\n",
      "BAD_LOANS                 object\n",
      "dtype: object\n",
      "<class 'pandas.core.frame.DataFrame'>\n",
      "Int64Index: 122607 entries, 0 to 122606\n",
      "Data columns (total 13 columns):\n",
      "GRADE                    122607 non-null object\n",
      "SUB_GRADE                122607 non-null object\n",
      "SHORT_EMP                122607 non-null object\n",
      "EMP_LENGTH_NUM           122607 non-null object\n",
      "HOME_OWNERSHIP           122607 non-null object\n",
      "DTI                      122607 non-null float64\n",
      "PURPOSE                  122607 non-null object\n",
      "TERM                     122607 non-null object\n",
      "LAST_DELINQ_NONE         122607 non-null object\n",
      "LAST_MAJOR_DEROG_NONE    122607 non-null object\n",
      "REVOL_UTIL               122607 non-null float64\n",
      "TOTAL_REC_LATE_FEE       122607 non-null float64\n",
      "BAD_LOANS                122607 non-null object\n",
      "dtypes: float64(3), object(10)\n",
      "memory usage: 13.1+ MB\n",
      "  GRADE SUB_GRADE SHORT_EMP EMP_LENGTH_NUM HOME_OWNERSHIP    DTI  \\\n",
      "0     B        B2         0             11           RENT  27.65   \n",
      "1     C        C3         0              4           RENT  16.75   \n",
      "2     E        E3         0             11            OWN  22.72   \n",
      "3     B        B4         0              9       MORTGAGE  18.76   \n",
      "4     B        B5         0             11           RENT   8.88   \n",
      "\n",
      "              PURPOSE        TERM LAST_DELINQ_NONE LAST_MAJOR_DEROG_NONE  \\\n",
      "0         credit_card   36 months                1                     1   \n",
      "1  debt_consolidation   36 months                0                     1   \n",
      "2         credit_card   36 months                0                     1   \n",
      "3      major_purchase   36 months                0                     1   \n",
      "4               house   36 months                0                     1   \n",
      "\n",
      "   REVOL_UTIL  TOTAL_REC_LATE_FEE BAD_LOANS  \n",
      "0        83.7                 0.0         0  \n",
      "1        40.3                 0.0         1  \n",
      "2        68.4                 0.0         0  \n",
      "3        70.7                 0.0         0  \n",
      "4        77.6                 0.0         1  \n"
     ]
    }
   ],
   "source": [
    "df_base = load_dataset(path, index_col, verbose=True)"
   ]
  },
  {
   "cell_type": "code",
   "execution_count": 45,
   "metadata": {},
   "outputs": [
    {
     "data": {
      "text/html": [
       "<div>\n",
       "<style scoped>\n",
       "    .dataframe tbody tr th:only-of-type {\n",
       "        vertical-align: middle;\n",
       "    }\n",
       "\n",
       "    .dataframe tbody tr th {\n",
       "        vertical-align: top;\n",
       "    }\n",
       "\n",
       "    .dataframe thead th {\n",
       "        text-align: right;\n",
       "    }\n",
       "</style>\n",
       "<table border=\"1\" class=\"dataframe\">\n",
       "  <thead>\n",
       "    <tr style=\"text-align: right;\">\n",
       "      <th></th>\n",
       "      <th>DTI</th>\n",
       "      <th>REVOL_UTIL</th>\n",
       "      <th>TOTAL_REC_LATE_FEE</th>\n",
       "      <th>GRADE_B</th>\n",
       "      <th>GRADE_C</th>\n",
       "      <th>GRADE_D</th>\n",
       "      <th>GRADE_E</th>\n",
       "      <th>GRADE_F</th>\n",
       "      <th>GRADE_G</th>\n",
       "      <th>SUB_GRADE_A2</th>\n",
       "      <th>...</th>\n",
       "      <th>PURPOSE_medical</th>\n",
       "      <th>PURPOSE_moving</th>\n",
       "      <th>PURPOSE_other</th>\n",
       "      <th>PURPOSE_small_business</th>\n",
       "      <th>PURPOSE_vacation</th>\n",
       "      <th>PURPOSE_wedding</th>\n",
       "      <th>TERM_ 60 months</th>\n",
       "      <th>LAST_DELINQ_NONE_1</th>\n",
       "      <th>LAST_MAJOR_DEROG_NONE_1</th>\n",
       "      <th>BAD_LOANS</th>\n",
       "    </tr>\n",
       "  </thead>\n",
       "  <tbody>\n",
       "    <tr>\n",
       "      <th>0</th>\n",
       "      <td>27.65</td>\n",
       "      <td>83.7</td>\n",
       "      <td>0.0</td>\n",
       "      <td>1</td>\n",
       "      <td>0</td>\n",
       "      <td>0</td>\n",
       "      <td>0</td>\n",
       "      <td>0</td>\n",
       "      <td>0</td>\n",
       "      <td>0</td>\n",
       "      <td>...</td>\n",
       "      <td>0</td>\n",
       "      <td>0</td>\n",
       "      <td>0</td>\n",
       "      <td>0</td>\n",
       "      <td>0</td>\n",
       "      <td>0</td>\n",
       "      <td>0</td>\n",
       "      <td>1</td>\n",
       "      <td>1</td>\n",
       "      <td>0</td>\n",
       "    </tr>\n",
       "    <tr>\n",
       "      <th>1</th>\n",
       "      <td>16.75</td>\n",
       "      <td>40.3</td>\n",
       "      <td>0.0</td>\n",
       "      <td>0</td>\n",
       "      <td>1</td>\n",
       "      <td>0</td>\n",
       "      <td>0</td>\n",
       "      <td>0</td>\n",
       "      <td>0</td>\n",
       "      <td>0</td>\n",
       "      <td>...</td>\n",
       "      <td>0</td>\n",
       "      <td>0</td>\n",
       "      <td>0</td>\n",
       "      <td>0</td>\n",
       "      <td>0</td>\n",
       "      <td>0</td>\n",
       "      <td>0</td>\n",
       "      <td>0</td>\n",
       "      <td>1</td>\n",
       "      <td>1</td>\n",
       "    </tr>\n",
       "    <tr>\n",
       "      <th>2</th>\n",
       "      <td>22.72</td>\n",
       "      <td>68.4</td>\n",
       "      <td>0.0</td>\n",
       "      <td>0</td>\n",
       "      <td>0</td>\n",
       "      <td>0</td>\n",
       "      <td>1</td>\n",
       "      <td>0</td>\n",
       "      <td>0</td>\n",
       "      <td>0</td>\n",
       "      <td>...</td>\n",
       "      <td>0</td>\n",
       "      <td>0</td>\n",
       "      <td>0</td>\n",
       "      <td>0</td>\n",
       "      <td>0</td>\n",
       "      <td>0</td>\n",
       "      <td>0</td>\n",
       "      <td>0</td>\n",
       "      <td>1</td>\n",
       "      <td>0</td>\n",
       "    </tr>\n",
       "    <tr>\n",
       "      <th>3</th>\n",
       "      <td>18.76</td>\n",
       "      <td>70.7</td>\n",
       "      <td>0.0</td>\n",
       "      <td>1</td>\n",
       "      <td>0</td>\n",
       "      <td>0</td>\n",
       "      <td>0</td>\n",
       "      <td>0</td>\n",
       "      <td>0</td>\n",
       "      <td>0</td>\n",
       "      <td>...</td>\n",
       "      <td>0</td>\n",
       "      <td>0</td>\n",
       "      <td>0</td>\n",
       "      <td>0</td>\n",
       "      <td>0</td>\n",
       "      <td>0</td>\n",
       "      <td>0</td>\n",
       "      <td>0</td>\n",
       "      <td>1</td>\n",
       "      <td>0</td>\n",
       "    </tr>\n",
       "    <tr>\n",
       "      <th>4</th>\n",
       "      <td>8.88</td>\n",
       "      <td>77.6</td>\n",
       "      <td>0.0</td>\n",
       "      <td>1</td>\n",
       "      <td>0</td>\n",
       "      <td>0</td>\n",
       "      <td>0</td>\n",
       "      <td>0</td>\n",
       "      <td>0</td>\n",
       "      <td>0</td>\n",
       "      <td>...</td>\n",
       "      <td>0</td>\n",
       "      <td>0</td>\n",
       "      <td>0</td>\n",
       "      <td>0</td>\n",
       "      <td>0</td>\n",
       "      <td>0</td>\n",
       "      <td>0</td>\n",
       "      <td>0</td>\n",
       "      <td>1</td>\n",
       "      <td>1</td>\n",
       "    </tr>\n",
       "  </tbody>\n",
       "</table>\n",
       "<p>5 rows × 73 columns</p>\n",
       "</div>"
      ],
      "text/plain": [
       "     DTI  REVOL_UTIL  TOTAL_REC_LATE_FEE  GRADE_B  GRADE_C  GRADE_D  GRADE_E  \\\n",
       "0  27.65        83.7                 0.0        1        0        0        0   \n",
       "1  16.75        40.3                 0.0        0        1        0        0   \n",
       "2  22.72        68.4                 0.0        0        0        0        1   \n",
       "3  18.76        70.7                 0.0        1        0        0        0   \n",
       "4   8.88        77.6                 0.0        1        0        0        0   \n",
       "\n",
       "   GRADE_F  GRADE_G  SUB_GRADE_A2    ...      PURPOSE_medical  PURPOSE_moving  \\\n",
       "0        0        0             0    ...                    0               0   \n",
       "1        0        0             0    ...                    0               0   \n",
       "2        0        0             0    ...                    0               0   \n",
       "3        0        0             0    ...                    0               0   \n",
       "4        0        0             0    ...                    0               0   \n",
       "\n",
       "   PURPOSE_other  PURPOSE_small_business  PURPOSE_vacation  PURPOSE_wedding  \\\n",
       "0              0                       0                 0                0   \n",
       "1              0                       0                 0                0   \n",
       "2              0                       0                 0                0   \n",
       "3              0                       0                 0                0   \n",
       "4              0                       0                 0                0   \n",
       "\n",
       "   TERM_ 60 months  LAST_DELINQ_NONE_1  LAST_MAJOR_DEROG_NONE_1  BAD_LOANS  \n",
       "0                0                   1                        1          0  \n",
       "1                0                   0                        1          1  \n",
       "2                0                   0                        1          0  \n",
       "3                0                   0                        1          0  \n",
       "4                0                   0                        1          1  \n",
       "\n",
       "[5 rows x 73 columns]"
      ]
     },
     "execution_count": 45,
     "metadata": {},
     "output_type": "execute_result"
    }
   ],
   "source": [
    "#create a one hot encoded dataset - pd.get_dummies automatically applies one hot encoding to object type features\n",
    "df_dummy = pd.get_dummies(df_base, drop_first=True)\n",
    "df_dummy = df_dummy.rename(columns={'BAD_LOANS_1': 'BAD_LOANS'})\n",
    "df_dummy.head()"
   ]
  },
  {
   "cell_type": "code",
   "execution_count": 46,
   "metadata": {},
   "outputs": [
    {
     "data": {
      "text/html": [
       "<div>\n",
       "<style scoped>\n",
       "    .dataframe tbody tr th:only-of-type {\n",
       "        vertical-align: middle;\n",
       "    }\n",
       "\n",
       "    .dataframe tbody tr th {\n",
       "        vertical-align: top;\n",
       "    }\n",
       "\n",
       "    .dataframe thead th {\n",
       "        text-align: right;\n",
       "    }\n",
       "</style>\n",
       "<table border=\"1\" class=\"dataframe\">\n",
       "  <thead>\n",
       "    <tr style=\"text-align: right;\">\n",
       "      <th></th>\n",
       "      <th>GRADE</th>\n",
       "      <th>SUB_GRADE</th>\n",
       "      <th>DTI</th>\n",
       "      <th>REVOL_UTIL</th>\n",
       "      <th>TOTAL_REC_LATE_FEE</th>\n",
       "      <th>SHORT_EMP_1</th>\n",
       "      <th>EMP_LENGTH_NUM_1</th>\n",
       "      <th>EMP_LENGTH_NUM_2</th>\n",
       "      <th>EMP_LENGTH_NUM_3</th>\n",
       "      <th>EMP_LENGTH_NUM_4</th>\n",
       "      <th>...</th>\n",
       "      <th>PURPOSE_medical</th>\n",
       "      <th>PURPOSE_moving</th>\n",
       "      <th>PURPOSE_other</th>\n",
       "      <th>PURPOSE_small_business</th>\n",
       "      <th>PURPOSE_vacation</th>\n",
       "      <th>PURPOSE_wedding</th>\n",
       "      <th>TERM_ 60 months</th>\n",
       "      <th>LAST_DELINQ_NONE_1</th>\n",
       "      <th>LAST_MAJOR_DEROG_NONE_1</th>\n",
       "      <th>BAD_LOANS</th>\n",
       "    </tr>\n",
       "  </thead>\n",
       "  <tbody>\n",
       "    <tr>\n",
       "      <th>0</th>\n",
       "      <td>1.0</td>\n",
       "      <td>6.0</td>\n",
       "      <td>27.65</td>\n",
       "      <td>83.7</td>\n",
       "      <td>0.0</td>\n",
       "      <td>0</td>\n",
       "      <td>0</td>\n",
       "      <td>0</td>\n",
       "      <td>0</td>\n",
       "      <td>0</td>\n",
       "      <td>...</td>\n",
       "      <td>0</td>\n",
       "      <td>0</td>\n",
       "      <td>0</td>\n",
       "      <td>0</td>\n",
       "      <td>0</td>\n",
       "      <td>0</td>\n",
       "      <td>0</td>\n",
       "      <td>1</td>\n",
       "      <td>1</td>\n",
       "      <td>0</td>\n",
       "    </tr>\n",
       "    <tr>\n",
       "      <th>1</th>\n",
       "      <td>2.0</td>\n",
       "      <td>12.0</td>\n",
       "      <td>16.75</td>\n",
       "      <td>40.3</td>\n",
       "      <td>0.0</td>\n",
       "      <td>0</td>\n",
       "      <td>0</td>\n",
       "      <td>0</td>\n",
       "      <td>0</td>\n",
       "      <td>1</td>\n",
       "      <td>...</td>\n",
       "      <td>0</td>\n",
       "      <td>0</td>\n",
       "      <td>0</td>\n",
       "      <td>0</td>\n",
       "      <td>0</td>\n",
       "      <td>0</td>\n",
       "      <td>0</td>\n",
       "      <td>0</td>\n",
       "      <td>1</td>\n",
       "      <td>1</td>\n",
       "    </tr>\n",
       "    <tr>\n",
       "      <th>2</th>\n",
       "      <td>4.0</td>\n",
       "      <td>22.0</td>\n",
       "      <td>22.72</td>\n",
       "      <td>68.4</td>\n",
       "      <td>0.0</td>\n",
       "      <td>0</td>\n",
       "      <td>0</td>\n",
       "      <td>0</td>\n",
       "      <td>0</td>\n",
       "      <td>0</td>\n",
       "      <td>...</td>\n",
       "      <td>0</td>\n",
       "      <td>0</td>\n",
       "      <td>0</td>\n",
       "      <td>0</td>\n",
       "      <td>0</td>\n",
       "      <td>0</td>\n",
       "      <td>0</td>\n",
       "      <td>0</td>\n",
       "      <td>1</td>\n",
       "      <td>0</td>\n",
       "    </tr>\n",
       "    <tr>\n",
       "      <th>3</th>\n",
       "      <td>1.0</td>\n",
       "      <td>8.0</td>\n",
       "      <td>18.76</td>\n",
       "      <td>70.7</td>\n",
       "      <td>0.0</td>\n",
       "      <td>0</td>\n",
       "      <td>0</td>\n",
       "      <td>0</td>\n",
       "      <td>0</td>\n",
       "      <td>0</td>\n",
       "      <td>...</td>\n",
       "      <td>0</td>\n",
       "      <td>0</td>\n",
       "      <td>0</td>\n",
       "      <td>0</td>\n",
       "      <td>0</td>\n",
       "      <td>0</td>\n",
       "      <td>0</td>\n",
       "      <td>0</td>\n",
       "      <td>1</td>\n",
       "      <td>0</td>\n",
       "    </tr>\n",
       "    <tr>\n",
       "      <th>4</th>\n",
       "      <td>1.0</td>\n",
       "      <td>9.0</td>\n",
       "      <td>8.88</td>\n",
       "      <td>77.6</td>\n",
       "      <td>0.0</td>\n",
       "      <td>0</td>\n",
       "      <td>0</td>\n",
       "      <td>0</td>\n",
       "      <td>0</td>\n",
       "      <td>0</td>\n",
       "      <td>...</td>\n",
       "      <td>0</td>\n",
       "      <td>0</td>\n",
       "      <td>0</td>\n",
       "      <td>0</td>\n",
       "      <td>0</td>\n",
       "      <td>0</td>\n",
       "      <td>0</td>\n",
       "      <td>0</td>\n",
       "      <td>1</td>\n",
       "      <td>1</td>\n",
       "    </tr>\n",
       "  </tbody>\n",
       "</table>\n",
       "<p>5 rows × 35 columns</p>\n",
       "</div>"
      ],
      "text/plain": [
       "   GRADE  SUB_GRADE    DTI  REVOL_UTIL  TOTAL_REC_LATE_FEE  SHORT_EMP_1  \\\n",
       "0    1.0        6.0  27.65        83.7                 0.0            0   \n",
       "1    2.0       12.0  16.75        40.3                 0.0            0   \n",
       "2    4.0       22.0  22.72        68.4                 0.0            0   \n",
       "3    1.0        8.0  18.76        70.7                 0.0            0   \n",
       "4    1.0        9.0   8.88        77.6                 0.0            0   \n",
       "\n",
       "   EMP_LENGTH_NUM_1  EMP_LENGTH_NUM_2  EMP_LENGTH_NUM_3  EMP_LENGTH_NUM_4  \\\n",
       "0                 0                 0                 0                 0   \n",
       "1                 0                 0                 0                 1   \n",
       "2                 0                 0                 0                 0   \n",
       "3                 0                 0                 0                 0   \n",
       "4                 0                 0                 0                 0   \n",
       "\n",
       "     ...      PURPOSE_medical  PURPOSE_moving  PURPOSE_other  \\\n",
       "0    ...                    0               0              0   \n",
       "1    ...                    0               0              0   \n",
       "2    ...                    0               0              0   \n",
       "3    ...                    0               0              0   \n",
       "4    ...                    0               0              0   \n",
       "\n",
       "   PURPOSE_small_business  PURPOSE_vacation  PURPOSE_wedding  TERM_ 60 months  \\\n",
       "0                       0                 0                0                0   \n",
       "1                       0                 0                0                0   \n",
       "2                       0                 0                0                0   \n",
       "3                       0                 0                0                0   \n",
       "4                       0                 0                0                0   \n",
       "\n",
       "   LAST_DELINQ_NONE_1  LAST_MAJOR_DEROG_NONE_1  BAD_LOANS  \n",
       "0                   1                        1          0  \n",
       "1                   0                        1          1  \n",
       "2                   0                        1          0  \n",
       "3                   0                        1          0  \n",
       "4                   0                        1          1  \n",
       "\n",
       "[5 rows x 35 columns]"
      ]
     },
     "execution_count": 46,
     "metadata": {},
     "output_type": "execute_result"
    }
   ],
   "source": [
    "#create encoded dataset\n",
    "columns_ord_enc = ['GRADE', 'SUB_GRADE']\n",
    "oe = OrdinalEncoder()\n",
    "df_enc = oe.fit_transform(df_base[columns_ord_enc])\n",
    "enc_df = pd.DataFrame(df_enc, columns=columns_ord_enc)\n",
    "df_base[columns_ord_enc] = enc_df[columns_ord_enc]\n",
    "df_base = pd.get_dummies(df_base, drop_first=True)\n",
    "df_base = df_base.rename(columns={'BAD_LOANS_1': 'BAD_LOANS'})\n",
    "df_base.head()"
   ]
  },
  {
   "cell_type": "code",
   "execution_count": 47,
   "metadata": {},
   "outputs": [],
   "source": [
    "def split_and_scale(df, target='BAD_LOANS', test_size=0.3):\n",
    "    df_ = df.copy()\n",
    "    X_ = df_.drop(target, axis=1)\n",
    "    y_ = df_[target]\n",
    "    x_train, x_test, y_train, y_test = train_test_split(X_, y_, test_size=0.3, random_state=0)\n",
    "    \n",
    "\n",
    "    scaler = MinMaxScaler()\n",
    "    X_train_scaled = scaler.fit_transform(x_train)\n",
    "    X_test_scaled = scaler.transform(x_test)\n",
    "#     X_train_scaled = scaler.fit_transform(x_train.select_dtypes(include=['int', 'float']))\n",
    "#     X_test_scaled = scaler.transform(x_test.select_dtypes(include=['int', 'float']))\n",
    "    \n",
    "    return X_train_scaled, X_test_scaled, y_train, y_test\n",
    "\n",
    "def calculate_cost(confusion_matrix):\n",
    "    correct_risky = confusion_matrix[1][1]\n",
    "    correct_safe = confusion_matrix[0][0]\n",
    "    wrong_risky = confusion_matrix[0][1] #predicted as risky, but were safe = false negatives\n",
    "    wrong_safe = confusion_matrix[1][0]  #predicted as safe, but were risky = false positives\n",
    "\n",
    "    return (wrong_safe * 20000) + (wrong_risky * 10000)\n",
    "\n",
    "\n",
    "def Model(df, test_size=0.3, threshold=0.5, model='LogisticRegression', target='BAD_LOANS'):\n",
    "\n",
    "\n",
    "    if model == 'LogisticRegression':\n",
    "        x_train, x_test, y_train, y_test = split_and_scale(df, test_size=test_size)\n",
    "        model = LogisticRegression()\n",
    "    elif model == 'RandomForest':\n",
    "        X_ = df.drop(target, axis=1)\n",
    "        y_ = df[target]\n",
    "        x_train, x_test, y_train, y_test = train_test_split(X_, y_, test_size=0.3, random_state=0)\n",
    "        model = RandomForestClassifier(max_depth=4)\n",
    "        print(model)\n",
    "    # fit the model with data\n",
    "    model.fit(x_train,y_train)\n",
    "\n",
    "    #\n",
    "   # y_pred = model.predict(x_test)\n",
    "    \n",
    "    y_prob = model.predict_proba(x_test)[:,1]\n",
    "\n",
    "    y_pred = [0 if v < threshold else 1 for v in y_prob]\n",
    "\n",
    "    cnf_matrix = metrics.confusion_matrix(y_test, y_pred)\n",
    "    df_cm = pd.DataFrame(cnf_matrix, columns=['Safe', 'Risky'], index=['Safe', 'Risky'])\n",
    "    plt.figure(figsize = (10,7))\n",
    "    \n",
    "    #Scores\n",
    "    print('Accuracy:',metrics.accuracy_score(y_test, y_pred))\n",
    "    print('Precision:',metrics.precision_score(y_test, y_pred))\n",
    "    print('Recall:',metrics.recall_score(y_test, y_pred))\n",
    "    print('F1 Score:',metrics.f1_score(y_test, y_pred))\n",
    "    print('Cost: ', calculate_cost(cnf_matrix))\n",
    "\n",
    "    #Confusion Matrix\n",
    "    hm = sns.heatmap(df_cm, annot=True, fmt='g')\n",
    "    hm.set_yticklabels(hm.get_yticklabels(), rotation=0)\n",
    "    plt.ylabel('Actual label')\n",
    "    plt.xlabel('Predicted label')\n",
    "    plt.show()\n",
    "    \n",
    "    #AUROC\n",
    "    fpr, tpr, threshold = metrics.roc_curve(y_test, y_prob)\n",
    "    roc_auc = metrics.auc(fpr, tpr)\n",
    "\n",
    "    plt.title('Receiver Operating Characteristic')\n",
    "    plt.plot(fpr, tpr, 'b', label = 'AUC = %0.2f' % roc_auc)\n",
    "    plt.legend(loc = 'lower right')\n",
    "    plt.plot([0, 1], [0, 1],'r--')\n",
    "    plt.xlim([0, 1])\n",
    "    plt.ylim([0, 1])\n",
    "    plt.ylabel('True Positive Rate')\n",
    "    plt.xlabel('False Positive Rate')\n",
    "    plt.show()\n",
    "    \n",
    "    return model"
   ]
  },
  {
   "cell_type": "code",
   "execution_count": 48,
   "metadata": {},
   "outputs": [
    {
     "name": "stdout",
     "output_type": "stream",
     "text": [
      "RandomForestClassifier(bootstrap=True, ccp_alpha=0.0, class_weight=None,\n",
      "                       criterion='gini', max_depth=4, max_features='auto',\n",
      "                       max_leaf_nodes=None, max_samples=None,\n",
      "                       min_impurity_decrease=0.0, min_impurity_split=None,\n",
      "                       min_samples_leaf=1, min_samples_split=2,\n",
      "                       min_weight_fraction_leaf=0.0, n_estimators=100,\n",
      "                       n_jobs=None, oob_score=False, random_state=None,\n",
      "                       verbose=0, warm_start=False)\n",
      "Accuracy: 0.8131201913927629\n",
      "Precision: 1.0\n",
      "Recall: 0.00014545454545454546\n",
      "F1 Score: 0.0002908667830133799\n",
      "Cost:  137480000\n"
     ]
    },
    {
     "data": {
      "image/png": "[encoded data removed]",
      "text/plain": [
       "<Figure size 720x504 with 2 Axes>"
      ]
     },
     "metadata": {
      "needs_background": "light"
     },
     "output_type": "display_data"
    },
    {
     "data": {
      "image/png": "[encoded data removed]",
      "text/plain": [
       "<Figure size 432x288 with 1 Axes>"
      ]
     },
     "metadata": {
      "needs_background": "light"
     },
     "output_type": "display_data"
    }
   ],
   "source": [
    "modelRF = Model(df_base, model='RandomForest')"
   ]
  },
  {
   "cell_type": "code",
   "execution_count": 49,
   "metadata": {},
   "outputs": [
    {
     "name": "stdout",
     "output_type": "stream",
     "text": [
      "RandomForestClassifier(bootstrap=True, ccp_alpha=0.0, class_weight=None,\n",
      "                       criterion='gini', max_depth=4, max_features='auto',\n",
      "                       max_leaf_nodes=None, max_samples=None,\n",
      "                       min_impurity_decrease=0.0, min_impurity_split=None,\n",
      "                       min_samples_leaf=1, min_samples_split=2,\n",
      "                       min_weight_fraction_leaf=0.0, n_estimators=100,\n",
      "                       n_jobs=None, oob_score=False, random_state=None,\n",
      "                       verbose=0, warm_start=False)\n",
      "Accuracy: 0.8130930049207514\n",
      "Precision: 0.0\n",
      "Recall: 0.0\n",
      "F1 Score: 0.0\n",
      "Cost:  137500000\n"
     ]
    },
    {
     "name": "stderr",
     "output_type": "stream",
     "text": [
      "/anaconda3/lib/python3.7/site-packages/sklearn/metrics/_classification.py:1272: UndefinedMetricWarning: Precision is ill-defined and being set to 0.0 due to no predicted samples. Use `zero_division` parameter to control this behavior.\n",
      "  _warn_prf(average, modifier, msg_start, len(result))\n"
     ]
    },
    {
     "data": {
      "image/png": "[encoded data removed]",
      "text/plain": [
       "<Figure size 720x504 with 2 Axes>"
      ]
     },
     "metadata": {
      "needs_background": "light"
     },
     "output_type": "display_data"
    },
    {
     "data": {
      "image/png": "[encoded data removed]",
      "text/plain": [
       "<Figure size 432x288 with 1 Axes>"
      ]
     },
     "metadata": {
      "needs_background": "light"
     },
     "output_type": "display_data"
    }
   ],
   "source": [
    "modelReg = Model(df_dummy, model='RandomForest')"
   ]
  },
  {
   "cell_type": "markdown",
   "metadata": {},
   "source": [
    "**Accuracy** - ratio of correctly predicted observation to the total observations. One may think that, if we have high accuracy then our model is best. Yes, accuracy is a great measure but only when you have symmetric datasets where values of false positive and false negatives are almost same. **The baseline Accuracy score is: 0.816**\n",
    "\n",
    "Accuracy = TP+TN/TP+FP+FN+TN\n",
    "\n",
    "**Precision** - ratio of correctly predicted positive observations to the total predicted positive observations. The question that this metric answer is of all loans that labeled as safe, how many were actually safe? High precision relates to the low false positive rate. **The baseline Precision score is: 0.605**\n",
    "\n",
    "Precision = TP/TP+FP\n",
    "\n",
    "**Recall (Sensitivity)** - ratio of correctly predicted positive observations to the all observations in actual class - Safe. The question recall answers is: Of all the loans that were truly safe, how many did we label?  above 0.5 is good-ish. **The baseline Recall score is: 0.0496**\n",
    "\n",
    "Recall = TP/TP+FN\n",
    "\n",
    "**F1 score** - weighted average of Precision and Recall. Therefore, this score takes both false positives and false negatives into account. Intuitively it is not as easy to understand as accuracy, but F1 is usually more useful than accuracy, especially if you have an uneven class distribution. Accuracy works best if false positives and false negatives have similar cost. If the cost of false positives and false negatives are very different, it’s better to look at both Precision and Recall. **The baseline F1 score is: 0.0916**\n",
    "\n",
    "F1 Score = 2*(Recall * Precision) / (Recall + Precision)"
   ]
  },
  {
   "cell_type": "markdown",
   "metadata": {},
   "source": [
    "## FEATURE ENGINEERING & SELECTION\n"
   ]
  },
  {
   "cell_type": "code",
   "execution_count": 50,
   "metadata": {},
   "outputs": [],
   "source": [
    "df = load_dataset(path, index_col, verbose=False)"
   ]
  },
  {
   "cell_type": "code",
   "execution_count": 51,
   "metadata": {},
   "outputs": [
    {
     "data": {
      "image/png": "[encoded data removed]",
      "text/plain": [
       "<Figure size 432x288 with 1 Axes>"
      ]
     },
     "metadata": {
      "needs_background": "light"
     },
     "output_type": "display_data"
    }
   ],
   "source": [
    "def analyse_outliers(df):\n",
    "    cont_df = df.select_dtypes(include=['int', 'float'])\n",
    "    cont_df.boxplot()\n",
    "analyse_outliers(df)"
   ]
  },
  {
   "cell_type": "code",
   "execution_count": 52,
   "metadata": {},
   "outputs": [
    {
     "data": {
      "text/plain": [
       "<matplotlib.axes._subplots.AxesSubplot at 0x1a2b2f6588>"
      ]
     },
     "execution_count": 52,
     "metadata": {},
     "output_type": "execute_result"
    },
    {
     "data": {
      "image/png": "[encoded data removed]",
      "text/plain": [
       "<Figure size 432x288 with 1 Axes>"
      ]
     },
     "metadata": {
      "needs_background": "light"
     },
     "output_type": "display_data"
    }
   ],
   "source": [
    "sns.countplot('GRADE', hue='BAD_LOANS', data=df, alpha=0.8)\n"
   ]
  },
  {
   "cell_type": "markdown",
   "metadata": {},
   "source": [
    "#### F, and G have the highest risky loan ratio (>50%)\n"
   ]
  },
  {
   "cell_type": "code",
   "execution_count": 53,
   "metadata": {},
   "outputs": [
    {
     "data": {
      "text/plain": [
       "Text(0.5, 1.0, 'Late fee count')"
      ]
     },
     "execution_count": 53,
     "metadata": {},
     "output_type": "execute_result"
    },
    {
     "data": {
      "image/png": "[encoded data removed]",
      "text/plain": [
       "<Figure size 432x288 with 1 Axes>"
      ]
     },
     "metadata": {
      "needs_background": "light"
     },
     "output_type": "display_data"
    }
   ],
   "source": [
    "lateFee_df = df.loc[df['TOTAL_REC_LATE_FEE'] > 0]\n",
    "sns.countplot('BAD_LOANS', data=lateFee_df.loc[df['TOTAL_REC_LATE_FEE'] > 100], alpha=0.8)\n",
    "plt.title('Late fee count')\n"
   ]
  },
  {
   "cell_type": "code",
   "execution_count": 54,
   "metadata": {},
   "outputs": [
    {
     "data": {
      "text/plain": [
       "BAD_LOANS\n",
       "0    40373.279396\n",
       "1    50643.278100\n",
       "Name: TOTAL_REC_LATE_FEE, dtype: float64"
      ]
     },
     "execution_count": 54,
     "metadata": {},
     "output_type": "execute_result"
    }
   ],
   "source": [
    "lateFee_df.groupby('BAD_LOANS')['TOTAL_REC_LATE_FEE'].sum()"
   ]
  },
  {
   "cell_type": "markdown",
   "metadata": {},
   "source": [
    "There are 3421 customers with previous late fees (we don't know how many, only the amount paid). There are more 'risky' borrowers (1859) with late fees than 'safe' ones (1562), although the difference is negligible, and 'safe' borrowers tend to have a higher total of late fees paid. You would expect 'risky' borrowers to have higher total late fees than 'safe' borrowers; the fact that late fee holders are almost evenly distributed can lead to several assumptions:\n",
    "\n",
    "1. Late fees don't help us distinguish between the two types of borrowers.\n",
    "2. 'Risky' borrowers have late fees that have not been registered/paid yet - the 'TOTAL_REC_LATE_FEE' feature holds the **'total late fees received to day'**, which can be interpreted as the total amount of late fees received by the borrower, or the total amount of late fees received by the bank from the borrower. In the latter case, we could assume that 'risky' borrowers have received alot of late fees, but simply have not paid them yet, meaning that they are not registered in the 'TOTAL_REC_LATE_FEE' feature.\n",
    "\n",
    "\n",
    "Further study needed - for now, this feature will be binarized (see **BINARIZATION** section); 1: late fees, 0: no late fees\n"
   ]
  },
  {
   "cell_type": "code",
   "execution_count": 55,
   "metadata": {},
   "outputs": [],
   "source": [
    "##if keeping ordinal\n",
    "\n",
    "#assign grades to EMP_LENGTH_NUM {0: less than 1 year, 1: 1-7 years, 2: 8-10 years, 3: 10+years}\n",
    "map_emp_length = {'0': '0', '1': '1', '2': '1', '3': '1',\n",
    "                  '4': '1', '5': '1', '6': '1', '7': '1',\n",
    "                  '8': '2', '9': '2', '10': '2', '11': '3'}\n",
    "\n",
    "df['EMP_LENGTH_NUM'] = df['EMP_LENGTH_NUM'].astype(str).map(map_emp_length)\n",
    "\n",
    "#information from short_emp is available in emp_length_num, so I can drop it\n",
    "df = df.drop('SHORT_EMP', axis=1)"
   ]
  },
  {
   "cell_type": "code",
   "execution_count": 56,
   "metadata": {},
   "outputs": [],
   "source": [
    "#simplify DTI & REVOL_UTIL - rounded to nearest 10 - made categorical\n",
    "df['DTI'] = pd.Series(df['DTI']).round(-1).astype(int)\n",
    "df['REVOL_UTIL'] = pd.Series(df['REVOL_UTIL']).round(-1).astype(int)\n",
    "df['TOTAL_REC_LATE_FEE'] = pd.Series(df['TOTAL_REC_LATE_FEE']).round(-1).astype(int)"
   ]
  },
  {
   "cell_type": "code",
   "execution_count": 57,
   "metadata": {},
   "outputs": [
    {
     "name": "stderr",
     "output_type": "stream",
     "text": [
      "/anaconda3/lib/python3.7/site-packages/pandas/core/indexing.py:189: SettingWithCopyWarning: \n",
      "A value is trying to be set on a copy of a slice from a DataFrame\n",
      "\n",
      "See the caveats in the documentation: http://pandas.pydata.org/pandas-docs/stable/indexing.html#indexing-view-versus-copy\n",
      "  self._setitem_with_indexer(indexer, value)\n"
     ]
    }
   ],
   "source": [
    "#binarizing 'TOTAL_REC_LATE_FEE'; 1: have had late fees, 0:not late fees (at least no paid late fees)\n",
    "\n",
    "df['TOTAL_REC_LATE_FEE'].loc[df['TOTAL_REC_LATE_FEE'] > 0] = 1\n",
    "df['TOTAL_REC_LATE_FEE'].loc[df['TOTAL_REC_LATE_FEE'] == 0] = 0\n",
    "df['TOTAL_REC_LATE_FEE'] = df['TOTAL_REC_LATE_FEE'].astype(int)"
   ]
  },
  {
   "cell_type": "markdown",
   "metadata": {},
   "source": [
    "## RISK RATIOS \n",
    "\n",
    "\n",
    "https://stackoverflow.com/questions/43261747/a-better-way-to-calculate-odd-ratio-in-pandas\n",
    "\n",
    "Calculate risk ratio for different features, create a new column showing the cumulative risk of a loan"
   ]
  },
  {
   "cell_type": "code",
   "execution_count": 58,
   "metadata": {},
   "outputs": [],
   "source": [
    "def calculate_ratio(df, feature, target_feature):\n",
    "    risk_count_df = df[feature].loc[df[target_feature] == 1].value_counts()\n",
    "    safe_count_df = df[feature].loc[df[target_feature] == 0].value_counts()\n",
    "\n",
    "    risk_dict = {}\n",
    "    for idx in risk_count_df.index:\n",
    "        try:\n",
    "            risk_dict[idx] = np.round((risk_count_df.loc[idx] / (risk_count_df.loc[idx] + safe_count_df.loc[idx])) * 100, 2)\n",
    "        except:\n",
    "            risk_dict[idx] = 100\n",
    "    return risk_dict\n",
    "\n",
    "def calculate_odd_ratio(df, feature, target_feature):\n",
    "    risk_count_df = df[feature].loc[df[target_feature] == 1].value_counts()\n",
    "    safe_count_df = df[feature].loc[df[target_feature] == 0].value_counts()\n",
    "\n",
    "\n",
    "    whole_df = pd.concat([risk_count_df, safe_count_df], axis=1, sort=False)\n",
    "    whole_df.columns = ['risky', 'safe']\n",
    "    risk_dict = {}\n",
    "    for idx in whole_df.index:\n",
    "        num = whole_df.loc[idx, 'risky'] / whole_df.loc[idx, 'safe']\n",
    "        denom = whole_df.loc[idx, 'risky'] / (whole_df['risky'].sum() - whole_df.loc[idx, 'risky'])\n",
    "        odds = num / denom\n",
    "        risk_dict[idx] = np.log(odds)\n",
    "    return risk_dict\n"
   ]
  },
  {
   "cell_type": "code",
   "execution_count": 59,
   "metadata": {},
   "outputs": [],
   "source": [
    "def create_odd_ratio_features(df, target):\n",
    "    original_features = df.loc[:, df.columns != target].columns\n",
    "    for feature in original_features:\n",
    "        feature_type = df[feature].dtype\n",
    "        odds_ratio = calculate_odd_ratio(df=df, feature=feature, target_feature=target)\n",
    "        df['%s_ODDS'%feature] = df[feature].astype(feature_type).map(odds_ratio)\n",
    "    df = df.drop(original_features, axis=1)\n",
    "    return df\n",
    "\n",
    "def create_precent_ratio_features(df, target):\n",
    "    original_features = df.loc[:, df.columns != target].columns\n",
    "    for feature in original_features:\n",
    "        feature_type = df[feature].dtype\n",
    "        odds_ratio = calculate_ratio(df=df, feature=feature, target_feature=target)\n",
    "        df['%s_RISK'%feature] = df[feature].astype(feature_type).map(odds_ratio)\n",
    "    df = df.drop(original_features, axis=1)\n",
    "    return df\n",
    "        \n",
    "        "
   ]
  },
  {
   "cell_type": "code",
   "execution_count": 60,
   "metadata": {},
   "outputs": [
    {
     "data": {
      "text/plain": [
       "GRADE                    object\n",
       "SUB_GRADE                object\n",
       "EMP_LENGTH_NUM           object\n",
       "HOME_OWNERSHIP           object\n",
       "DTI                       int64\n",
       "PURPOSE                  object\n",
       "TERM                     object\n",
       "LAST_DELINQ_NONE         object\n",
       "LAST_MAJOR_DEROG_NONE    object\n",
       "REVOL_UTIL                int64\n",
       "TOTAL_REC_LATE_FEE        int64\n",
       "BAD_LOANS                object\n",
       "dtype: object"
      ]
     },
     "execution_count": 60,
     "metadata": {},
     "output_type": "execute_result"
    }
   ],
   "source": [
    "df.dtypes"
   ]
  },
  {
   "cell_type": "code",
   "execution_count": 61,
   "metadata": {},
   "outputs": [
    {
     "name": "stderr",
     "output_type": "stream",
     "text": [
      "/anaconda3/lib/python3.7/site-packages/ipykernel_launcher.py:6: SettingWithCopyWarning: \n",
      "A value is trying to be set on a copy of a slice from a DataFrame.\n",
      "Try using .loc[row_indexer,col_indexer] = value instead\n",
      "\n",
      "See the caveats in the documentation: http://pandas.pydata.org/pandas-docs/stable/indexing.html#indexing-view-versus-copy\n",
      "  \n"
     ]
    },
    {
     "data": {
      "text/html": [
       "<div>\n",
       "<style scoped>\n",
       "    .dataframe tbody tr th:only-of-type {\n",
       "        vertical-align: middle;\n",
       "    }\n",
       "\n",
       "    .dataframe tbody tr th {\n",
       "        vertical-align: top;\n",
       "    }\n",
       "\n",
       "    .dataframe thead th {\n",
       "        text-align: right;\n",
       "    }\n",
       "</style>\n",
       "<table border=\"1\" class=\"dataframe\">\n",
       "  <thead>\n",
       "    <tr style=\"text-align: right;\">\n",
       "      <th></th>\n",
       "      <th>BAD_LOANS</th>\n",
       "      <th>GRADE_ODDS</th>\n",
       "      <th>SUB_GRADE_ODDS</th>\n",
       "      <th>EMP_LENGTH_NUM_ODDS</th>\n",
       "      <th>HOME_OWNERSHIP_ODDS</th>\n",
       "      <th>PURPOSE_ODDS</th>\n",
       "      <th>TERM_ODDS</th>\n",
       "      <th>LAST_DELINQ_NONE_ODDS</th>\n",
       "      <th>LAST_MAJOR_DEROG_NONE_ODDS</th>\n",
       "      <th>DTI</th>\n",
       "      <th>REVOL_UTIL</th>\n",
       "      <th>TOTAL_REC_LATE_FEE</th>\n",
       "    </tr>\n",
       "  </thead>\n",
       "  <tbody>\n",
       "    <tr>\n",
       "      <th>0</th>\n",
       "      <td>0</td>\n",
       "      <td>-0.581877</td>\n",
       "      <td>1.276114</td>\n",
       "      <td>-0.500685</td>\n",
       "      <td>-1.255261</td>\n",
       "      <td>0.057650</td>\n",
       "      <td>-2.389426</td>\n",
       "      <td>-1.806759</td>\n",
       "      <td>-3.406367</td>\n",
       "      <td>30</td>\n",
       "      <td>80</td>\n",
       "      <td>0</td>\n",
       "    </tr>\n",
       "    <tr>\n",
       "      <th>1</th>\n",
       "      <td>1</td>\n",
       "      <td>-0.336741</td>\n",
       "      <td>1.587801</td>\n",
       "      <td>-1.653064</td>\n",
       "      <td>-1.255261</td>\n",
       "      <td>-1.724416</td>\n",
       "      <td>-2.389426</td>\n",
       "      <td>-1.105583</td>\n",
       "      <td>-3.406367</td>\n",
       "      <td>20</td>\n",
       "      <td>40</td>\n",
       "      <td>0</td>\n",
       "    </tr>\n",
       "    <tr>\n",
       "      <th>2</th>\n",
       "      <td>0</td>\n",
       "      <td>1.201392</td>\n",
       "      <td>2.922320</td>\n",
       "      <td>-0.500685</td>\n",
       "      <td>0.974267</td>\n",
       "      <td>0.057650</td>\n",
       "      <td>-2.389426</td>\n",
       "      <td>-1.105583</td>\n",
       "      <td>-3.406367</td>\n",
       "      <td>20</td>\n",
       "      <td>70</td>\n",
       "      <td>0</td>\n",
       "    </tr>\n",
       "    <tr>\n",
       "      <th>3</th>\n",
       "      <td>0</td>\n",
       "      <td>-0.581877</td>\n",
       "      <td>1.144229</td>\n",
       "      <td>0.403163</td>\n",
       "      <td>-1.321400</td>\n",
       "      <td>1.915366</td>\n",
       "      <td>-2.389426</td>\n",
       "      <td>-1.105583</td>\n",
       "      <td>-3.406367</td>\n",
       "      <td>20</td>\n",
       "      <td>70</td>\n",
       "      <td>0</td>\n",
       "    </tr>\n",
       "    <tr>\n",
       "      <th>4</th>\n",
       "      <td>1</td>\n",
       "      <td>-0.581877</td>\n",
       "      <td>1.342294</td>\n",
       "      <td>-0.500685</td>\n",
       "      <td>-1.255261</td>\n",
       "      <td>3.327730</td>\n",
       "      <td>-2.389426</td>\n",
       "      <td>-1.105583</td>\n",
       "      <td>-3.406367</td>\n",
       "      <td>10</td>\n",
       "      <td>80</td>\n",
       "      <td>0</td>\n",
       "    </tr>\n",
       "  </tbody>\n",
       "</table>\n",
       "</div>"
      ],
      "text/plain": [
       "  BAD_LOANS  GRADE_ODDS  SUB_GRADE_ODDS  EMP_LENGTH_NUM_ODDS  \\\n",
       "0         0   -0.581877        1.276114            -0.500685   \n",
       "1         1   -0.336741        1.587801            -1.653064   \n",
       "2         0    1.201392        2.922320            -0.500685   \n",
       "3         0   -0.581877        1.144229             0.403163   \n",
       "4         1   -0.581877        1.342294            -0.500685   \n",
       "\n",
       "   HOME_OWNERSHIP_ODDS  PURPOSE_ODDS  TERM_ODDS  LAST_DELINQ_NONE_ODDS  \\\n",
       "0            -1.255261      0.057650  -2.389426              -1.806759   \n",
       "1            -1.255261     -1.724416  -2.389426              -1.105583   \n",
       "2             0.974267      0.057650  -2.389426              -1.105583   \n",
       "3            -1.321400      1.915366  -2.389426              -1.105583   \n",
       "4            -1.255261      3.327730  -2.389426              -1.105583   \n",
       "\n",
       "   LAST_MAJOR_DEROG_NONE_ODDS  DTI  REVOL_UTIL  TOTAL_REC_LATE_FEE  \n",
       "0                   -3.406367   30          80                   0  \n",
       "1                   -3.406367   20          40                   0  \n",
       "2                   -3.406367   20          70                   0  \n",
       "3                   -3.406367   20          70                   0  \n",
       "4                   -3.406367   10          80                   0  "
      ]
     },
     "execution_count": 61,
     "metadata": {},
     "output_type": "execute_result"
    }
   ],
   "source": [
    "odd_df = create_odd_ratio_features(df=df.select_dtypes(include=['object']), target='BAD_LOANS')\n",
    "continuous_cols = df.select_dtypes(exclude=['object']).columns\n",
    "odd_df[continuous_cols] = df[continuous_cols]\n",
    "odd_df.head()"
   ]
  },
  {
   "cell_type": "code",
   "execution_count": 62,
   "metadata": {},
   "outputs": [],
   "source": [
    "#create cumulative odd ratio risk feature\n",
    "\n",
    "odd_df['TOTAL_ODDS'] = odd_df.filter(regex=('_ODDS')).sum(axis=1)"
   ]
  },
  {
   "cell_type": "code",
   "execution_count": 64,
   "metadata": {},
   "outputs": [],
   "source": [
    "#some (3) features have only one count, so return NaN ()\n",
    "odd_df = odd_df.dropna()"
   ]
  },
  {
   "cell_type": "code",
   "execution_count": 65,
   "metadata": {},
   "outputs": [],
   "source": [
    "#select Best - here we converted all features to binary, later we will try to keep some ordinal categories\n",
    "from sklearn.feature_selection import SelectKBest, mutual_info_classif, chi2, f_classif\n",
    "\n",
    "def select_KBest(df, col_names, train, test, target='Response', score_func=mutual_info_classif, k = 12):\n",
    "    '''\n",
    "    Prints ranked pvalues and scores of all features and returns a dataframe with only those selected features\n",
    "    and the target feature. n.b: maintains the index of all rows throughout so the target feature is in the right place\n",
    "    when added at the end.\n",
    "\n",
    "    For more info on sklearn.selectKBest and parameters, visit - https://scikit-learn.org/stable/modules/generated/sklearn.feature_selection.SelectKBest.html#sklearn.feature_selection.SelectKBest\n",
    "    :param score_func: function used to calculate score and p-value, default is 'chi2'\n",
    "    can be: 'chi2', 'f_classif', 'f_regression', 'mutual_info_regression' - more can be added but need to be imported\n",
    "    :param k: number of features to select\n",
    "    :param X: features\n",
    "    :param y: target\n",
    "    :return: dataframe with selected features and target\n",
    "    '''\n",
    "    feat_selector = SelectKBest(score_func=score_func, k=k) \n",
    "    selector = feat_selector.fit(train, test)\n",
    "\n",
    "    feat_scores = pd.DataFrame()\n",
    "    feat_scores[\"Score\"] = np.round(selector.scores_,3)\n",
    "    feat_scores[\"Pvalue\"] = selector.pvalues_\n",
    "    feat_scores[\"Support\"] = selector.get_support()\n",
    "    feat_scores[\"Attribute\"] = col_names\n",
    "\n",
    "    feat_scores = feat_scores.sort_values('Score', ascending=False, axis=0)\n",
    "    # print(sorted_df)\n",
    "    feat_scores = feat_scores.iloc[:k, :]  # get selected number of rows from ranking\n",
    "    sorted_columns = feat_scores['Attribute'].values  # get column names\n",
    "\n",
    "    print(\"Ranked input features:\\n\", feat_scores)\n",
    "    \n",
    "    # get columns with score above threshold\n",
    "    feat_scores = feat_scores.loc[feat_scores['Score'] > 600]\n",
    "    sorted_columns = feat_scores['Attribute'].values  # get column names\n",
    "\n",
    "    new_df = df[sorted_columns] #create new DF with selected rows - created in def __init__()\n",
    "    new_df[target] = df[target].values.astype(int) # add 'Response' column to new dataframe\n",
    "    print(\"New DataFrame Columns:\\n\", new_df.columns)\n",
    "    print('Length of new_df: \\n', len(new_df))\n",
    "    print(new_df.dtypes)\n",
    "\n",
    "    \n",
    "    return new_df   "
   ]
  },
  {
   "cell_type": "code",
   "execution_count": 66,
   "metadata": {},
   "outputs": [
    {
     "name": "stdout",
     "output_type": "stream",
     "text": [
      "Ranked input features:\n",
      "        Score         Pvalue  Support                   Attribute\n",
      "1   2215.210   0.000000e+00     True              SUB_GRADE_ODDS\n",
      "10  1958.802   0.000000e+00     True          TOTAL_REC_LATE_FEE\n",
      "0   1926.158   0.000000e+00     True                  GRADE_ODDS\n",
      "5   1924.471   0.000000e+00     True                   TERM_ODDS\n",
      "11  1227.807  4.308462e-267     True                  TOTAL_ODDS\n",
      "9   1083.152  4.521994e-236     True                  REVOL_UTIL\n",
      "8    850.280  5.145930e-186     True                         DTI\n",
      "2     70.155   5.564468e-17     True         EMP_LENGTH_NUM_ODDS\n",
      "6      7.268   7.021159e-03     True       LAST_DELINQ_NONE_ODDS\n",
      "3      6.239   1.249947e-02     True         HOME_OWNERSHIP_ODDS\n",
      "4      4.992   2.546896e-02     True                PURPOSE_ODDS\n",
      "7      0.108   7.420340e-01     True  LAST_MAJOR_DEROG_NONE_ODDS\n",
      "New DataFrame Columns:\n",
      " Index(['SUB_GRADE_ODDS', 'TOTAL_REC_LATE_FEE', 'GRADE_ODDS', 'TERM_ODDS',\n",
      "       'TOTAL_ODDS', 'REVOL_UTIL', 'DTI', 'BAD_LOANS'],\n",
      "      dtype='object')\n",
      "Length of new_df: \n",
      " 122607\n",
      "SUB_GRADE_ODDS        float64\n",
      "TOTAL_REC_LATE_FEE      int64\n",
      "GRADE_ODDS            float64\n",
      "TERM_ODDS             float64\n",
      "TOTAL_ODDS            float64\n",
      "REVOL_UTIL              int64\n",
      "DTI                     int64\n",
      "BAD_LOANS               int64\n",
      "dtype: object\n"
     ]
    },
    {
     "name": "stderr",
     "output_type": "stream",
     "text": [
      "/anaconda3/lib/python3.7/site-packages/ipykernel_launcher.py:39: SettingWithCopyWarning: \n",
      "A value is trying to be set on a copy of a slice from a DataFrame.\n",
      "Try using .loc[row_indexer,col_indexer] = value instead\n",
      "\n",
      "See the caveats in the documentation: http://pandas.pydata.org/pandas-docs/stable/indexing.html#indexing-view-versus-copy\n"
     ]
    }
   ],
   "source": [
    "x_train, x_test, y_train, y_test = split_and_scale(odd_df)\n",
    "\n",
    "new_df_risk = select_KBest(odd_df, odd_df.drop('BAD_LOANS', axis=1).columns, \n",
    "                       train=x_train, test=y_train, target='BAD_LOANS', score_func=f_classif, \n",
    "                       k = len(odd_df.drop('BAD_LOANS', axis=1).columns))"
   ]
  },
  {
   "cell_type": "code",
   "execution_count": 67,
   "metadata": {},
   "outputs": [
    {
     "data": {
      "text/html": [
       "<div>\n",
       "<style scoped>\n",
       "    .dataframe tbody tr th:only-of-type {\n",
       "        vertical-align: middle;\n",
       "    }\n",
       "\n",
       "    .dataframe tbody tr th {\n",
       "        vertical-align: top;\n",
       "    }\n",
       "\n",
       "    .dataframe thead th {\n",
       "        text-align: right;\n",
       "    }\n",
       "</style>\n",
       "<table border=\"1\" class=\"dataframe\">\n",
       "  <thead>\n",
       "    <tr style=\"text-align: right;\">\n",
       "      <th></th>\n",
       "      <th>SUB_GRADE_ODDS</th>\n",
       "      <th>TOTAL_REC_LATE_FEE</th>\n",
       "      <th>GRADE_ODDS</th>\n",
       "      <th>TERM_ODDS</th>\n",
       "      <th>TOTAL_ODDS</th>\n",
       "      <th>REVOL_UTIL</th>\n",
       "      <th>DTI</th>\n",
       "      <th>BAD_LOANS</th>\n",
       "    </tr>\n",
       "  </thead>\n",
       "  <tbody>\n",
       "    <tr>\n",
       "      <th>0</th>\n",
       "      <td>1.276114</td>\n",
       "      <td>0</td>\n",
       "      <td>-0.581877</td>\n",
       "      <td>-2.389426</td>\n",
       "      <td>-8.606611</td>\n",
       "      <td>80</td>\n",
       "      <td>30</td>\n",
       "      <td>0</td>\n",
       "    </tr>\n",
       "    <tr>\n",
       "      <th>1</th>\n",
       "      <td>1.587801</td>\n",
       "      <td>0</td>\n",
       "      <td>-0.336741</td>\n",
       "      <td>-2.389426</td>\n",
       "      <td>-10.283057</td>\n",
       "      <td>40</td>\n",
       "      <td>20</td>\n",
       "      <td>1</td>\n",
       "    </tr>\n",
       "    <tr>\n",
       "      <th>2</th>\n",
       "      <td>2.922320</td>\n",
       "      <td>0</td>\n",
       "      <td>1.201392</td>\n",
       "      <td>-2.389426</td>\n",
       "      <td>-2.246432</td>\n",
       "      <td>70</td>\n",
       "      <td>20</td>\n",
       "      <td>0</td>\n",
       "    </tr>\n",
       "    <tr>\n",
       "      <th>3</th>\n",
       "      <td>1.144229</td>\n",
       "      <td>0</td>\n",
       "      <td>-0.581877</td>\n",
       "      <td>-2.389426</td>\n",
       "      <td>-5.341895</td>\n",
       "      <td>70</td>\n",
       "      <td>20</td>\n",
       "      <td>0</td>\n",
       "    </tr>\n",
       "    <tr>\n",
       "      <th>4</th>\n",
       "      <td>1.342294</td>\n",
       "      <td>0</td>\n",
       "      <td>-0.581877</td>\n",
       "      <td>-2.389426</td>\n",
       "      <td>-4.569175</td>\n",
       "      <td>80</td>\n",
       "      <td>10</td>\n",
       "      <td>1</td>\n",
       "    </tr>\n",
       "  </tbody>\n",
       "</table>\n",
       "</div>"
      ],
      "text/plain": [
       "   SUB_GRADE_ODDS  TOTAL_REC_LATE_FEE  GRADE_ODDS  TERM_ODDS  TOTAL_ODDS  \\\n",
       "0        1.276114                   0   -0.581877  -2.389426   -8.606611   \n",
       "1        1.587801                   0   -0.336741  -2.389426  -10.283057   \n",
       "2        2.922320                   0    1.201392  -2.389426   -2.246432   \n",
       "3        1.144229                   0   -0.581877  -2.389426   -5.341895   \n",
       "4        1.342294                   0   -0.581877  -2.389426   -4.569175   \n",
       "\n",
       "   REVOL_UTIL  DTI  BAD_LOANS  \n",
       "0          80   30          0  \n",
       "1          40   20          1  \n",
       "2          70   20          0  \n",
       "3          70   20          0  \n",
       "4          80   10          1  "
      ]
     },
     "execution_count": 67,
     "metadata": {},
     "output_type": "execute_result"
    }
   ],
   "source": [
    "new_df_risk.head()"
   ]
  },
  {
   "cell_type": "markdown",
   "metadata": {},
   "source": [
    "## Compare Over Sampling (SMOTE) to Under Sampling"
   ]
  },
  {
   "cell_type": "markdown",
   "metadata": {},
   "source": [
    "#### Under sampling"
   ]
  },
  {
   "cell_type": "code",
   "execution_count": 68,
   "metadata": {},
   "outputs": [
    {
     "data": {
      "text/plain": [
       "0    27780\n",
       "1    23150\n",
       "Name: BAD_LOANS, dtype: int64"
      ]
     },
     "execution_count": 68,
     "metadata": {},
     "output_type": "execute_result"
    }
   ],
   "source": [
    "#build undersampled dataset\n",
    "risky_df = new_df_risk.loc[new_df_risk['BAD_LOANS'] == 1]\n",
    "safe_df = new_df_risk.loc[new_df_risk['BAD_LOANS'] == 0].sample(int(len(risky_df)*1.2)).reset_index().drop('index', axis=1)\n",
    "undersamp_df = pd.concat([risky_df, safe_df])\n",
    "undersamp_df = undersamp_df.sample(frac=1).reset_index(drop=True)\n",
    "undersamp_df['BAD_LOANS'].value_counts()"
   ]
  },
  {
   "cell_type": "code",
   "execution_count": 69,
   "metadata": {},
   "outputs": [],
   "source": [
    "training_features, test_features, training_target, test_target, = split_and_scale(new_df_risk)\n",
    "\n",
    "X = undersamp_df.drop('BAD_LOANS', axis=1)\n",
    "y = undersamp_df['BAD_LOANS']\n",
    "x_train, x_val, y_train, y_val = train_test_split(X, y,\n",
    "                                                  test_size = 0.3,\n",
    "                                                  random_state=0)\n"
   ]
  },
  {
   "cell_type": "code",
   "execution_count": 70,
   "metadata": {},
   "outputs": [
    {
     "name": "stdout",
     "output_type": "stream",
     "text": [
      "Validation Results\n",
      "0.6359054911970679\n",
      "0.4340407226842558\n",
      "\n",
      "Test Results\n",
      "0.8167088056982845\n",
      "0.08145454545454546\n"
     ]
    },
    {
     "data": {
      "image/png": "[encoded data removed]",
      "text/plain": [
       "<Figure size 432x288 with 2 Axes>"
      ]
     },
     "metadata": {
      "needs_background": "light"
     },
     "output_type": "display_data"
    },
    {
     "name": "stdout",
     "output_type": "stream",
     "text": [
      "Accuracy: 0.8167088056982845\n",
      "Precision: 0.5673758865248227\n",
      "Recall: 0.08145454545454546\n",
      "F1 Score: 0.14245738997710508\n",
      "Cost:  130570000\n"
     ]
    },
    {
     "data": {
      "image/png": "[encoded data removed]",
      "text/plain": [
       "<Figure size 432x288 with 1 Axes>"
      ]
     },
     "metadata": {
      "needs_background": "light"
     },
     "output_type": "display_data"
    }
   ],
   "source": [
    "clf_rf = LogisticRegression()\n",
    "clf_rf.fit(x_train, y_train)\n",
    "\n",
    "print('Validation Results')\n",
    "print(clf_rf.score(x_val, y_val))\n",
    "print(metrics.recall_score(y_val, clf_rf.predict(x_val)))\n",
    "print('\\nTest Results')\n",
    "print(clf_rf.score(test_features, test_target))\n",
    "print(metrics.recall_score(test_target, clf_rf.predict(test_features)))\n",
    "\n",
    "\n",
    "\n",
    "#confusion_matrix\n",
    "cnf_matrix = metrics.confusion_matrix(test_target,  clf_rf.predict(test_features))\n",
    "df_cm = pd.DataFrame(cnf_matrix, columns=['Safe', 'Risky'], index=['Safe', 'Risky'])\n",
    "hm = sns.heatmap(df_cm, annot=True, fmt='g')\n",
    "hm.set_yticklabels(hm.get_yticklabels(), rotation=0)\n",
    "plt.ylabel('Actual label')\n",
    "plt.xlabel('Predicted label')\n",
    "plt.show()\n",
    "\n",
    "unbal_pred = clf_rf.predict(test_features)\n",
    "print('Accuracy:',metrics.accuracy_score(test_target, unbal_pred))\n",
    "print('Precision:',metrics.precision_score(test_target, unbal_pred))\n",
    "print('Recall:',metrics.recall_score(test_target, unbal_pred))\n",
    "print('F1 Score:',metrics.f1_score(test_target, unbal_pred))\n",
    "print('Cost: ', calculate_cost(cnf_matrix))\n",
    "\n",
    "y_prob = clf_rf.predict_proba(test_features)[:,1]\n",
    "\n",
    "\n",
    "\n",
    "#auroc\n",
    "fpr, tpr, threshold = metrics.roc_curve(test_target, y_prob)\n",
    "roc_auc = metrics.auc(fpr, tpr)\n",
    "plt.title('Receiver Operating Characteristic')\n",
    "plt.plot(fpr, tpr, 'b', label = 'AUC = %0.2f' % roc_auc)\n",
    "plt.legend(loc = 'lower right')\n",
    "plt.plot([0, 1], [0, 1],'r--')\n",
    "plt.xlim([0, 1])\n",
    "plt.ylim([0, 1])\n",
    "plt.ylabel('True Positive Rate')\n",
    "plt.xlabel('False Positive Rate')\n",
    "plt.show()"
   ]
  },
  {
   "cell_type": "markdown",
   "metadata": {},
   "source": [
    "#### Unchanged dataset (unbalanced)"
   ]
  },
  {
   "cell_type": "code",
   "execution_count": 71,
   "metadata": {},
   "outputs": [
    {
     "name": "stdout",
     "output_type": "stream",
     "text": [
      "Accuracy: 0.8174156539705842\n",
      "Precision: 0.5987577639751552\n",
      "Recall: 0.07010909090909091\n",
      "F1 Score: 0.12552083333333333\n",
      "Cost:  131090000\n"
     ]
    },
    {
     "data": {
      "image/png": "[encoded data removed]",
      "text/plain": [
       "<Figure size 720x504 with 2 Axes>"
      ]
     },
     "metadata": {
      "needs_background": "light"
     },
     "output_type": "display_data"
    },
    {
     "data": {
      "image/png": "[encoded data removed]",
      "text/plain": [
       "<Figure size 432x288 with 1 Axes>"
      ]
     },
     "metadata": {
      "needs_background": "light"
     },
     "output_type": "display_data"
    }
   ],
   "source": [
    "#model with no over or under sampling\n",
    "model = Model(new_df_risk, test_size=0.3, threshold=0.5, model='LogisticRegression', target='BAD_LOANS')\n"
   ]
  },
  {
   "cell_type": "markdown",
   "metadata": {},
   "source": [
    "#### Over sampling"
   ]
  },
  {
   "cell_type": "code",
   "execution_count": 72,
   "metadata": {},
   "outputs": [
    {
     "name": "stderr",
     "output_type": "stream",
     "text": [
      "/anaconda3/lib/python3.7/site-packages/sklearn/utils/deprecation.py:87: FutureWarning: Function safe_indexing is deprecated; safe_indexing is deprecated in version 0.22 and will be removed in version 0.24.\n",
      "  warnings.warn(msg, category=FutureWarning)\n"
     ]
    }
   ],
   "source": [
    "##OVERSAMPLING\n",
    "training_features, test_features, training_target, test_target, = split_and_scale(new_df_risk)\n",
    "\n",
    "\n",
    "x_train, x_val, y_train, y_val = train_test_split(training_features, training_target,\n",
    "                                                  test_size = 0.3,\n",
    "                                                  random_state=12)\n",
    "\n",
    "sm = SMOTE(random_state=0, ratio = 1.0)\n",
    "x_train_res, y_train_res = sm.fit_sample(x_train, y_train)"
   ]
  },
  {
   "cell_type": "code",
   "execution_count": 73,
   "metadata": {},
   "outputs": [
    {
     "name": "stdout",
     "output_type": "stream",
     "text": [
      "Validation Results\n",
      "0.6856066490601211\n",
      "0.5372362432767894\n",
      "\n",
      "Test Results\n",
      "0.6815648533289835\n",
      "0.5377454545454545\n"
     ]
    },
    {
     "data": {
      "image/png": "[encoded data removed]",
      "text/plain": [
       "<Figure size 432x288 with 2 Axes>"
      ]
     },
     "metadata": {
      "needs_background": "light"
     },
     "output_type": "display_data"
    },
    {
     "name": "stdout",
     "output_type": "stream",
     "text": [
      "Accuracy: 0.6815648533289835\n",
      "Precision: 0.30224002616088946\n",
      "Recall: 0.5377454545454545\n",
      "F1 Score: 0.3869785942324802\n",
      "Cost:  148910000\n"
     ]
    },
    {
     "data": {
      "image/png": "[encoded data removed]",
      "text/plain": [
       "<Figure size 432x288 with 1 Axes>"
      ]
     },
     "metadata": {
      "needs_background": "light"
     },
     "output_type": "display_data"
    }
   ],
   "source": [
    "#ONLY FOR SMOTE\n",
    "clf_rf = LogisticRegression()\n",
    "clf_rf.fit(x_train_res, y_train_res)\n",
    "\n",
    "print('Validation Results')\n",
    "print(clf_rf.score(x_val, y_val))\n",
    "print(metrics.recall_score(y_val, clf_rf.predict(x_val)))\n",
    "print('\\nTest Results')\n",
    "print(clf_rf.score(test_features, test_target))\n",
    "print(metrics.recall_score(test_target, clf_rf.predict(test_features)))\n",
    "\n",
    "\n",
    "\n",
    "#confusion_matrix\n",
    "cnf_matrix = metrics.confusion_matrix(test_target,  clf_rf.predict(test_features))\n",
    "df_cm = pd.DataFrame(cnf_matrix, columns=['Safe', 'Risky'], index=['Safe', 'Risky'])\n",
    "hm = sns.heatmap(df_cm, annot=True, fmt='g')\n",
    "hm.set_yticklabels(hm.get_yticklabels(), rotation=0)\n",
    "plt.ylabel('Actual label')\n",
    "plt.xlabel('Predicted label')\n",
    "plt.show()\n",
    "\n",
    "unbal_pred = clf_rf.predict(test_features)\n",
    "print('Accuracy:',metrics.accuracy_score(test_target, unbal_pred))\n",
    "print('Precision:',metrics.precision_score(test_target, unbal_pred))\n",
    "print('Recall:',metrics.recall_score(test_target, unbal_pred))\n",
    "print('F1 Score:',metrics.f1_score(test_target, unbal_pred))\n",
    "print('Cost: ', calculate_cost(cnf_matrix))\n",
    "\n",
    "y_prob = clf_rf.predict_proba(test_features)[:,1]\n",
    "\n",
    "\n",
    "\n",
    "#auroc\n",
    "fpr, tpr, threshold = metrics.roc_curve(test_target, y_prob)\n",
    "roc_auc = metrics.auc(fpr, tpr)\n",
    "plt.title('Receiver Operating Characteristic')\n",
    "plt.plot(fpr, tpr, 'b', label = 'AUC = %0.2f' % roc_auc)\n",
    "plt.legend(loc = 'lower right')\n",
    "plt.plot([0, 1], [0, 1],'r--')\n",
    "plt.xlim([0, 1])\n",
    "plt.ylim([0, 1])\n",
    "plt.ylabel('True Positive Rate')\n",
    "plt.xlabel('False Positive Rate')\n",
    "plt.show()"
   ]
  },
  {
   "cell_type": "markdown",
   "metadata": {},
   "source": [
    "**Under Sampling delivers best results**"
   ]
  },
  {
   "cell_type": "markdown",
   "metadata": {},
   "source": [
    "## BUILD MODELS"
   ]
  },
  {
   "cell_type": "code",
   "execution_count": 79,
   "metadata": {},
   "outputs": [],
   "source": [
    "def cost_scorer(y_test, y_pred):\n",
    "    y_test = np.array(y_test)\n",
    "##!!! NOTE - do select k best separately for categorical & continous\n",
    "    diff_df = pd.DataFrame({'test': y_test, 'pred': y_pred})\n",
    "    diff_df['diff'] = diff_df['test'] - diff_df['pred']\n",
    "    diff_df['diff'] = diff_df['diff'].replace({255 : -1})\n",
    "    counts = diff_df['diff'].value_counts()\n",
    "    false_neg = counts.loc[-1]\n",
    "    false_pos = counts.loc[1]\n",
    "    cost = (false_neg * 10000) + (false_pos * 20000)\n",
    "    #need to return as negative because make scorer flips sign when 'greater_is_beter'=false\n",
    "    return cost\n",
    "\n",
    "def AUROC(y_test, y_prob, plot=True):\n",
    "    fpr, tpr, threshold = metrics.roc_curve(y_test, y_prob)\n",
    "    roc_auc = metrics.auc(fpr, tpr)\n",
    "    print('AUC: %s'%np.round(roc_auc, 3))\n",
    "\n",
    "    if plot == True:\n",
    "        plt.title('Receiver Operating Characteristic')\n",
    "        plt.plot(fpr, tpr, 'b', label='AUC = %0.2f' % roc_auc)\n",
    "        plt.legend(loc='lower right')\n",
    "        plt.plot([0, 1], [0, 1], 'r--')\n",
    "        plt.xlim([0, 1])\n",
    "        plt.ylim([0, 1])\n",
    "        plt.ylabel('True Positive Rate')\n",
    "        plt.xlabel('False Positive Rate')\n",
    "        plt.show(block=False)\n",
    "\n",
    "    return roc_auc"
   ]
  },
  {
   "cell_type": "code",
   "execution_count": 80,
   "metadata": {},
   "outputs": [],
   "source": [
    "#make custom cost scorer for grid search\n",
    "grid_cost_scorer = metrics.make_scorer(cost_scorer, greater_is_better=False, needs_proba=True)\n"
   ]
  },
  {
   "cell_type": "code",
   "execution_count": 77,
   "metadata": {},
   "outputs": [
    {
     "data": {
      "text/plain": [
       "0    27780\n",
       "1    23150\n",
       "Name: BAD_LOANS, dtype: int64"
      ]
     },
     "execution_count": 77,
     "metadata": {},
     "output_type": "execute_result"
    }
   ],
   "source": [
    "#build undersampled dataset\n",
    "risky_df = new_df_risk.loc[new_df_risk['BAD_LOANS'] == 1]\n",
    "safe_df = new_df_risk.loc[new_df_risk['BAD_LOANS'] == 0].sample(int(len(risky_df)*1.2)).reset_index().drop('index', axis=1)\n",
    "undersamp_df = pd.concat([risky_df, safe_df])\n",
    "undersamp_df = undersamp_df.sample(frac=1).reset_index(drop=True)\n",
    "undersamp_df['BAD_LOANS'].value_counts()"
   ]
  },
  {
   "cell_type": "code",
   "execution_count": 78,
   "metadata": {},
   "outputs": [],
   "source": [
    "#split dataset - first split to test (will use test_features to predict, test_target to evaluate)\n",
    "training_features, test_features, training_target, test_target, = split_and_scale(new_df_risk)\n",
    "\n",
    "\n",
    "#split undersampled data (will use x_train, y_train to train model (undersampled), then test_features to predict, test_target to evaluate)\n",
    "X = undersamp_df.drop('BAD_LOANS', axis=1)\n",
    "y = undersamp_df['BAD_LOANS']\n",
    "x_train, x_val, y_train, y_val = train_test_split(X, y,\n",
    "                                                  test_size = 0.3,\n",
    "                                                  random_state=12)"
   ]
  },
  {
   "cell_type": "code",
   "execution_count": 82,
   "metadata": {},
   "outputs": [],
   "source": [
    "#model & parameter dictionaries for Grid Search\n",
    "seed = 3\n",
    "models = {\n",
    "    'RF': RandomForestClassifier(),\n",
    "    'neighbours': KNeighborsClassifier(),\n",
    "    'logistic': LogisticRegression(),\n",
    "    'mlp': MLPClassifier(),\n",
    "    'svc': SVC()\n",
    "}\n",
    "params = {\n",
    "    'RF': {\n",
    "        'max_depth': [4, 8],\n",
    "        'n_estimators': [100, 200],\n",
    "        'max_features': ['auto', 'log2'],\n",
    "        'bootstrap': [True],\n",
    "        'criterion': ['gini'],\n",
    "        'oob_score': [False]\n",
    "    },\n",
    "    'neighbours': {\n",
    "        'n_neighbors': np.arange(3, 15),\n",
    "        'weights': ['uniform', 'distance'],\n",
    "        'algorithm': ['kd_tree', 'brute']\n",
    "    },\n",
    "    'mlp': {\n",
    "        'solver': ['adam', 'sgd'],\n",
    "        'max_iter': [500,1000,1500],\n",
    "        'alpha': 10.0 ** -np.arange(1, 10, 3),\n",
    "        'hidden_layer_sizes': np.arange(10, 16,2)\n",
    "    },\n",
    "    'logistic': {\n",
    "        'C':np.logspace(-3,3,4), \n",
    "        'penalty':['l1','l2'],\n",
    "        'random_state' : [seed],\n",
    "      },\n",
    "    'svc': {\n",
    "         'kernel': ['rbf'], \n",
    "         'gamma': [1e-3, 1e-4],\n",
    "         'C': [500, 1000]\n",
    "    }\n",
    "}"
   ]
  },
  {
   "cell_type": "markdown",
   "metadata": {},
   "source": [
    "https://datascience.stackexchange.com/questions/15989/micro-average-vs-macro-average-performance-in-a-multiclass-classification-settin\n",
    "\n",
    "Micro- and macro-averages (for whatever metric) will compute slightly different things, and thus their interpretation differs. A macro-average will compute the metric independently for each class and then take the average (hence treating all classes equally), whereas a micro-average will aggregate the contributions of all classes to compute the average metric. In a multi-class classification setup, micro-average is preferable if you suspect there might be class imbalance (i.e you may have many more examples of one class than of other classes)."
   ]
  },
  {
   "cell_type": "markdown",
   "metadata": {},
   "source": [
    "**NOTE**: No need to run this (slow), the best estimators are already saved below"
   ]
  },
  {
   "cell_type": "code",
   "execution_count": null,
   "metadata": {},
   "outputs": [],
   "source": [
    "threshold = 0.5\n",
    "dict_best = {}\n",
    "for name in models.keys():\n",
    "    print(name)\n",
    "    est = models[name]\n",
    "    est_params = params[name]\n",
    "    model = GridSearchCV(estimator=est, param_grid=est_params, cv=5,\n",
    "                        scoring=grid_cost_scorer, verbose=3) #can also set scoring='precision_micro'\n",
    "    model.fit(x_train, y_train)\n",
    "    print(\"best estimator is: {}\".format(model.best_estimator_))\n",
    "    print(\"best score are: {}\".format(model.best_score_))\n",
    "    print(\"best parameters are: {}\".format(model.best_params_))\n",
    "    best_estimator = model.best_estimator_\n",
    "    dict_best[name] = best_estimator\n",
    "    \n",
    "    y_prob = model.predict_proba(test_features)[:, 1]\n",
    "\n",
    "    predictions_df = pd.DataFrame({'y_prob': y_prob, 'y_test': test_target})\n",
    "    predictions_df.to_csv('predict_proba_%s_%s_recall.csv'%(name, threshold))\n",
    "\n",
    "    unbal_pred = [0 if v < threshold else 1 for v in y_prob]\n",
    "\n",
    "    cnf_matrix = metrics.confusion_matrix(test_target, unbal_pred)\n",
    "    df_cm = pd.DataFrame(cnf_matrix)  # , columns=['Safe', 'Risky'], index=['Safe', 'Risky'])\n",
    "    hm = sns.heatmap(df_cm, annot=True, fmt='g')\n",
    "    hm.set_yticklabels(hm.get_yticklabels(), rotation=0)\n",
    "    plt.ylabel('Actual label')\n",
    "    plt.xlabel('Predicted label')\n",
    "    plt.show(block=False)\n",
    "\n",
    "    print('Accuracy:', metrics.accuracy_score(test_target, unbal_pred))\n",
    "    print('Precision:', metrics.precision_score(test_target, unbal_pred))\n",
    "    print('Recall:', metrics.recall_score(test_target, unbal_pred))\n",
    "    print('F1 Score:', metrics.f1_score(test_target, unbal_pred))\n",
    "\n",
    "    #calculate cost\n",
    "    y_test = np.array(y_test)\n",
    "    diff_df = pd.DataFrame({'test': y_test, 'pred': unbal_pred})\n",
    "    diff_df['diff'] = diff_df['test'] - diff_df['pred']\n",
    "    diff_df['diff'] = diff_df['diff'].replace({255 : -1})\n",
    "    counts = diff_df['diff'].value_counts()\n",
    "    try:\n",
    "        false_neg = counts.loc[-1]\n",
    "    except:\n",
    "        print('no FN')\n",
    "        false_neg = 0\n",
    "    try:\n",
    "        false_pos = counts.loc[1]\n",
    "    except:\n",
    "        print('no FP')\n",
    "        false_pos = 0\n",
    "        \n",
    "    cost = (false_neg * 10000) + (false_pos * 20000)\n",
    "    \n",
    "    print('cost: ', cost)\n",
    "\n",
    "    filename = 'models/%s_precision_micro.sav'%name\n",
    "    pickle.dump(best_estimator, open(filename, 'wb'))\n",
    "    \n",
    "    # Save to file in the current working directory\n",
    "    pkl_filename = 'models/%s_precision_micro.pkl'%name\n",
    "    with open(pkl_filename, 'wb') as file:\n",
    "        pickle.dump(best_estimator, file)\n",
    "    \n",
    "    auc = AUROC(test_target, y_prob, plot=True)\n",
    "    \n"
   ]
  },
  {
   "cell_type": "markdown",
   "metadata": {},
   "source": [
    "dict_best = {} will return the best estimator for each model in the models dict\n"
   ]
  },
  {
   "cell_type": "code",
   "execution_count": null,
   "metadata": {},
   "outputs": [],
   "source": [
    "dict_best"
   ]
  },
  {
   "cell_type": "markdown",
   "metadata": {},
   "source": [
    "\n",
    "## Train model on full dataset\n",
    "\n",
    "Now that we have the best estimators, we can train the models on the whole undersampled dataset. These models will be used to make predictions on new data in the application.\n",
    "\n",
    "Note that we have two sets of optimal models; those optmizied of the custom cost_scorer and those optimized on 'precision_recall'"
   ]
  },
  {
   "cell_type": "markdown",
   "metadata": {},
   "source": [
    "#### precision_micro"
   ]
  },
  {
   "cell_type": "code",
   "execution_count": 83,
   "metadata": {},
   "outputs": [],
   "source": [
    "#create undersampled dataset\n",
    "risky_df = new_df_risk.loc[new_df_risk['BAD_LOANS'] == 1]\n",
    "safe_df = new_df_risk.loc[new_df_risk['BAD_LOANS'] == 0].sample(int(len(risky_df)*1.2)).reset_index().drop('index', axis=1)\n",
    "undersamp_df = pd.concat([risky_df, safe_df])\n",
    "undersamp_df = undersamp_df.sample(frac=1).reset_index(drop=True)\n",
    "\n",
    "#this sample is . used to train scv - otherwise it takes too long\n",
    "sampl_data = undersamp_df.sample(10000)"
   ]
  },
  {
   "cell_type": "code",
   "execution_count": null,
   "metadata": {},
   "outputs": [],
   "source": [
    "#create training % testing data - full dataset\n",
    "X = undersamp_df.drop('BAD_LOANS', axis=1)\n",
    "y = undersamp_df['BAD_LOANS']"
   ]
  },
  {
   "cell_type": "code",
   "execution_count": null,
   "metadata": {},
   "outputs": [],
   "source": [
    "#SVC\n",
    "Xsamp = sampl_data.drop('BAD_LOANS', axis=1)\n",
    "ysamp = sampl_data['BAD_LOANS']\n",
    "\n",
    "model = SVC(C=1000, cache_size=200, class_weight=None, coef0=0.0,\n",
    "  decision_function_shape='ovr', degree=3, gamma=0.001, kernel='rbf',\n",
    "  max_iter=-1, probability=True, random_state=None, shrinking=True,\n",
    "  tol=0.001, verbose=False)\n",
    "model.fit(Xsamp,ysamp)\n",
    "\n",
    "##ONLY used if we want to make predictions - not necessary here since model is trained on whole dataset\n",
    "# y_pred = model.predict(test_features)\n",
    "\n",
    "# prediction = pd.DataFrame({'y_pred': y_pred, 'y_test':test_target}).to_csv('svc_predictions_precision.csv')\n",
    "\n",
    "# Save to file in the current working directory\n",
    "pkl_filename = 'models/svc_precision_micro_analyse.pkl'  #%name\n",
    "with open(pkl_filename, 'wb') as file:\n",
    "    pickle.dump(model, file)"
   ]
  },
  {
   "cell_type": "code",
   "execution_count": null,
   "metadata": {},
   "outputs": [],
   "source": [
    "#MLP\n",
    "model = MLPClassifier(activation='relu', alpha=1e-07, batch_size='auto', beta_1=0.9,\n",
    "       beta_2=0.999, early_stopping=False, epsilon=1e-08,\n",
    "       hidden_layer_sizes=12, learning_rate='constant',\n",
    "       learning_rate_init=0.001, max_iter=1500, momentum=0.9,\n",
    "       n_iter_no_change=10, nesterovs_momentum=True, power_t=0.5,\n",
    "       random_state=None, shuffle=True, solver='adam', tol=0.0001,\n",
    "       validation_fraction=0.1, verbose=False, warm_start=False)\n",
    "model.fit(X,y)\n",
    "\n",
    "\n",
    "# y_pred = model.predict(test_features)\n",
    "\n",
    "# prediction = pd.DataFrame({'y_pred': y_pred, 'y_test':test_target}).to_csv('mlp_predictions_precision.csv')\n",
    "\n",
    "# Save to file in the current working directory\n",
    "pkl_filename = 'models/mlp_precision_micro_analyse.pkl'  #%name\n",
    "with open(pkl_filename, 'wb') as file:\n",
    "    pickle.dump(model, file)"
   ]
  },
  {
   "cell_type": "code",
   "execution_count": 64,
   "metadata": {},
   "outputs": [
    {
     "name": "stderr",
     "output_type": "stream",
     "text": [
      "/anaconda3/lib/python3.7/site-packages/sklearn/linear_model/logistic.py:433: FutureWarning: Default solver will be changed to 'lbfgs' in 0.22. Specify a solver to silence this warning.\n",
      "  FutureWarning)\n"
     ]
    }
   ],
   "source": [
    "#Logistic Regression\n",
    "model = LogisticRegression(C=0.1, class_weight=None, dual=False, fit_intercept=True,\n",
    "          intercept_scaling=1, max_iter=100, multi_class='warn',\n",
    "          n_jobs=None, penalty='l1', random_state=3, solver='warn',\n",
    "          tol=0.0001, verbose=0, warm_start=False)\n",
    "model.fit(X,y)\n",
    "\n",
    "\n",
    "# y_pred = model.predict(test_features)\n",
    "\n",
    "# prediction = pd.DataFrame({'y_pred': y_pred, 'y_test':test_target}).to_csv('logistic_predictions_precision.csv')\n",
    "\n",
    "# Save to file in the current working directory\n",
    "pkl_filename = 'models/logistic_precision_micro_analyse.pkl'  #%name\n",
    "with open(pkl_filename, 'wb') as file:\n",
    "    pickle.dump(model, file)"
   ]
  },
  {
   "cell_type": "code",
   "execution_count": 65,
   "metadata": {},
   "outputs": [],
   "source": [
    "#KNeighbours\n",
    "model = KNeighborsClassifier(algorithm='kd_tree', leaf_size=30, metric='minkowski',\n",
    "           metric_params=None, n_jobs=None, n_neighbors=14, p=2,\n",
    "           weights='uniform')\n",
    "model.fit(X,y)\n",
    "\n",
    "\n",
    "# y_pred = model.predict(test_features)\n",
    "\n",
    "# prediction = pd.DataFrame({'y_pred': y_pred, 'y_test':test_target}).to_csv('neighbours_predictions_precision.csv')\n",
    "\n",
    "# Save to file in the current working directory\n",
    "pkl_filename = 'models/neighbours_precision_micro_analyse.pkl'  #%name\n",
    "with open(pkl_filename, 'wb') as file:\n",
    "    pickle.dump(model, file)"
   ]
  },
  {
   "cell_type": "code",
   "execution_count": 66,
   "metadata": {},
   "outputs": [],
   "source": [
    "#RF\n",
    "model = RandomForestClassifier(bootstrap=True, class_weight=None, criterion='gini',\n",
    "            max_depth=8, max_features='auto', max_leaf_nodes=None,\n",
    "            min_impurity_decrease=0.0, min_impurity_split=None,\n",
    "            min_samples_leaf=1, min_samples_split=2,\n",
    "            min_weight_fraction_leaf=0.0, n_estimators=100, n_jobs=None,\n",
    "            oob_score=False, random_state=None, verbose=0,\n",
    "            warm_start=False)\n",
    "model.fit(X,y)\n",
    "\n",
    "\n",
    "# y_pred = model.predict(test_features)\n",
    "\n",
    "# prediction = pd.DataFrame({'y_pred': y_pred, 'y_test':test_target}).to_csv('RF_predictions_precision.csv')\n",
    "\n",
    "# Save to file in the current working directory\n",
    "pkl_filename = 'models/RF_precision_micro_analyse.pkl'  #%name\n",
    "with open(pkl_filename, 'wb') as file:\n",
    "    pickle.dump(model, file)"
   ]
  },
  {
   "cell_type": "markdown",
   "metadata": {},
   "source": [
    "#### cost_scorer"
   ]
  },
  {
   "cell_type": "code",
   "execution_count": 31,
   "metadata": {},
   "outputs": [],
   "source": [
    "#MLP\n",
    "model = MLPClassifier(activation='relu', alpha=1e-07, batch_size='auto', beta_1=0.9,\n",
    "       beta_2=0.999, early_stopping=False, epsilon=1e-08,\n",
    "       hidden_layer_sizes=12, learning_rate='constant',\n",
    "       learning_rate_init=0.001, max_iter=1000, momentum=0.9,\n",
    "       n_iter_no_change=10, nesterovs_momentum=True, power_t=0.5,\n",
    "       random_state=None, shuffle=True, solver='sgd', tol=0.0001,\n",
    "       validation_fraction=0.1, verbose=False, warm_start=False)\n",
    "model.fit(X,y)\n",
    "\n",
    "\n",
    "# y_pred = model.predict(test_features)\n",
    "\n",
    "# y_prob = model.predict_proba(test_features)[:,1]\n",
    "\n",
    "# prediction = pd.DataFrame({'y_pred': y_pred, 'y_test':test_target, 'y_prob': y_prob}).to_csv('mlp_predictions_cost.csv')\n",
    "\n",
    "# Save to file in the current working directory\n",
    "pkl_filename = 'models/mlp_cost_analyse.pkl'  #%name\n",
    "with open(pkl_filename, 'wb') as file:\n",
    "    pickle.dump(model, file)"
   ]
  },
  {
   "cell_type": "code",
   "execution_count": 35,
   "metadata": {},
   "outputs": [],
   "source": [
    "#LogisticRegression\n",
    "model = LogisticRegression(C=0.1, class_weight=None, dual=False, fit_intercept=True,\n",
    "          intercept_scaling=1, max_iter=100, multi_class='auto',\n",
    "          n_jobs=None, penalty='l2', random_state=3, solver='lbfgs',\n",
    "          tol=0.0001, verbose=0, warm_start=False)\n",
    "model.fit(X,y)\n",
    "\n",
    "\n",
    "# y_pred = model.predict(test_features)\n",
    "# y_prob = model.predict_proba(test_features)[:,1]\n",
    "\n",
    "\n",
    "# prediction = pd.DataFrame({'y_pred': y_pred, 'y_test':test_target, 'y_prob': y_prob}).to_csv('logistic_predictions_cost.csv')\n",
    "\n",
    "# Save to file in the current working directory\n",
    "pkl_filename = 'models/logistic_cost_analyse.pkl'  #%name\n",
    "with open(pkl_filename, 'wb') as file:\n",
    "    pickle.dump(model, file)"
   ]
  },
  {
   "cell_type": "code",
   "execution_count": 36,
   "metadata": {},
   "outputs": [],
   "source": [
    "#KNeighbours\n",
    "model = KNeighborsClassifier(algorithm='kd_tree', leaf_size=30, metric='minkowski',\n",
    "           metric_params=None, n_jobs=None, n_neighbors=13, p=2,\n",
    "           weights='uniform')\n",
    "model.fit(X,y)\n",
    "\n",
    "# y_pred = model.predict(test_features)\n",
    "# y_prob = model.predict_proba(test_features)[:,1]\n",
    "\n",
    "\n",
    "# prediction = pd.DataFrame({'y_pred': y_pred, 'y_test':test_target, 'y_prob': y_prob}).to_csv('neighbours_predictions_cost.csv')\n",
    "\n",
    "# Save to file in the current working directory\n",
    "pkl_filename = 'models/neighbours_cost_analyse.pkl'  #%name\n",
    "with open(pkl_filename, 'wb') as file:\n",
    "    pickle.dump(model, file)"
   ]
  },
  {
   "cell_type": "code",
   "execution_count": 37,
   "metadata": {},
   "outputs": [],
   "source": [
    "#RF\n",
    "model = RandomForestClassifier(bootstrap=True, class_weight=None, criterion='gini',\n",
    "            max_depth=8, max_features='auto', max_leaf_nodes=None,\n",
    "            min_impurity_decrease=0.0, min_impurity_split=None,\n",
    "            min_samples_leaf=1, min_samples_split=2,\n",
    "            min_weight_fraction_leaf=0.0, n_estimators=100, n_jobs=None,\n",
    "            oob_score=False, random_state=None, verbose=0,\n",
    "            warm_start=False)\n",
    "model.fit(X,y)\n",
    "\n",
    "\n",
    "# y_pred = model.predict(test_features)\n",
    "\n",
    "# y_prob = model.predict_proba(test_features)[:,1]\n",
    "\n",
    "\n",
    "# prediction = pd.DataFrame({'y_pred': y_pred, 'y_test':test_target, 'y_prob': y_prob}).to_csv('RF_predictions_cost.csv')\n",
    "\n",
    "# Save to file in the current working directory\n",
    "pkl_filename = 'models/RF_cost_analyse.pkl'  #%name\n",
    "with open(pkl_filename, 'wb') as file:\n",
    "    pickle.dump(model, file)"
   ]
  },
  {
   "cell_type": "code",
   "execution_count": 40,
   "metadata": {},
   "outputs": [],
   "source": [
    "#SVC\n",
    "Xsamp = sampl_data.drop('BAD_LOANS', axis=1)\n",
    "ysamp = sampl_data['BAD_LOANS']\n",
    "\n",
    "model = SVC(C=1000, cache_size=200, class_weight=None, coef0=0.0,\n",
    "  decision_function_shape='ovr', degree=3, gamma=0.001, kernel='rbf',\n",
    "  max_iter=-1, probability=True, random_state=None, shrinking=True,\n",
    "  tol=0.001, verbose=False)\n",
    "model.fit(Xsamp,ysamp)\n",
    "\n",
    "\n",
    "# y_pred = model.predict(test_features)\n",
    "# y_prob = model.predict_proba(test_features)[:,1]\n",
    "\n",
    "\n",
    "# prediction = pd.DataFrame({'y_pred': y_pred, 'y_test':test_target, 'y_prob': y_prob}).to_csv('svc_predictions_cost.csv')\n",
    "\n",
    "# Save to file in the current working directory\n",
    "pkl_filename = 'models/svc_cost_analyse.pkl'  #%name\n",
    "with open(pkl_filename, 'wb') as file:\n",
    "    pickle.dump(model, file)"
   ]
  },
  {
   "cell_type": "code",
   "execution_count": null,
   "metadata": {},
   "outputs": [],
   "source": []
  }
 ],
 "metadata": {
  "kernelspec": {
   "display_name": "Python 3",
   "language": "python",
   "name": "python3"
  },
  "language_info": {
   "codemirror_mode": {
    "name": "ipython",
    "version": 3
   },
   "file_extension": ".py",
   "mimetype": "text/x-python",
   "name": "python",
   "nbconvert_exporter": "python",
   "pygments_lexer": "ipython3",
   "version": "3.7.1"
  }
 },
 "nbformat": 4,
 "nbformat_minor": 2
}
